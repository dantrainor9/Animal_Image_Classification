{
  "nbformat": 4,
  "nbformat_minor": 0,
  "metadata": {
    "colab": {
      "name": "Animal_Image_Classification_part_1.ipynb",
      "provenance": [],
      "mount_file_id": "18EIpsSHUu7IROATuGSi2VPv_54BcblBF",
      "authorship_tag": "ABX9TyPrmqEWm/AX4++RHuU/V9zq",
      "include_colab_link": true
    },
    "kernelspec": {
      "name": "python3",
      "display_name": "Python 3"
    },
    "language_info": {
      "name": "python"
    }
  },
  "cells": [
    {
      "cell_type": "markdown",
      "metadata": {
        "id": "view-in-github",
        "colab_type": "text"
      },
      "source": [
        "<a href=\"https://colab.research.google.com/github/dantrainor9/Animal_Image_Classification/blob/main/Animal_Image_Classification_part_1.ipynb\" target=\"_parent\"><img src=\"https://colab.research.google.com/assets/colab-badge.svg\" alt=\"Open In Colab\"/></a>"
      ]
    },
    {
      "cell_type": "code",
      "source": [
        "import numpy as np\n",
        "import pandas as pd\n",
        "import matplotlib.pyplot as plt\n",
        "import seaborn as sns\n",
        "import tensorflow as tf\n",
        "\n",
        "from sklearn.compose import make_column_selector, make_column_transformer\n",
        "from sklearn.preprocessing import StandardScaler\n",
        "from sklearn.model_selection import train_test_split\n",
        "from sklearn.metrics import classification_report, confusion_matrix\n",
        "\n",
        "from matplotlib.pyplot import imshow\n",
        "\n",
        "from tensorflow import keras\n",
        "from tensorflow.keras.models import Sequential\n",
        "from tensorflow.keras.layers import Dense, Conv2D, MaxPool2D, Flatten, Dropout\n",
        "from tensorflow.keras.utils import to_categorical\n",
        "from tensorflow.keras.optimizers import Adam, Adamax"
      ],
      "metadata": {
        "id": "5BHBwCkbvMCG"
      },
      "execution_count": 1,
      "outputs": []
    },
    {
      "cell_type": "code",
      "source": [
        "path = '/content/drive/MyDrive/Personal Projects/Animal Image Classification/dataset'"
      ],
      "metadata": {
        "id": "K8KaIWz1wite"
      },
      "execution_count": 2,
      "outputs": []
    },
    {
      "cell_type": "code",
      "source": [
        "#defining a function for visualizing image samples from a generator\n",
        "def show_image_samples(gen):\n",
        "    t_dict=gen.class_indices\n",
        "    classes=list(t_dict.keys())\n",
        "    images,labels=next(gen) # get a sample batch from the generator \n",
        "    plt.figure(figsize=(20, 20))\n",
        "    length=len(labels)\n",
        "    if length<25:   #show maximum of 25 images\n",
        "        r=length\n",
        "    else:\n",
        "        r=25\n",
        "    for i in range(r):\n",
        "        plt.subplot(5, 5, i + 1)\n",
        "        image=images[i]/255        \n",
        "        plt.imshow(image)\n",
        "        index=np.argmax(labels[i])\n",
        "        class_name=classes[index]\n",
        "        plt.title(class_name, color='green', fontsize=12)\n",
        "        plt.axis('off')\n",
        "    plt.show()"
      ],
      "metadata": {
        "id": "3Byt-iIIBtTv"
      },
      "execution_count": 3,
      "outputs": []
    },
    {
      "cell_type": "code",
      "source": [
        "#defining a function for visualizing images from a directory\n",
        "def show_images(tdir):\n",
        "    classlist=os.listdir(tdir)\n",
        "    length=len(classlist)\n",
        "    columns=5\n",
        "    rows=int(np.ceil(length/columns))    \n",
        "    plt.figure(figsize=(20, rows * 4))\n",
        "    for i, klass in enumerate(classlist):    \n",
        "        classpath=os.path.join(tdir, klass)\n",
        "        imgpath=os.path.join(classpath, '1.jpg')\n",
        "        img=plt.imread(imgpath)\n",
        "        plt.subplot(rows, columns, i+1)\n",
        "        plt.axis('off')\n",
        "        plt.title(klass, color='green', fontsize=12)\n",
        "        plt.imshow(img)"
      ],
      "metadata": {
        "id": "bDgap04gCi2b"
      },
      "execution_count": 4,
      "outputs": []
    }
  ]
}