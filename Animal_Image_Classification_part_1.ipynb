{
  "nbformat": 4,
  "nbformat_minor": 0,
  "metadata": {
    "colab": {
      "name": "Animal_Image_Classification_part_1.ipynb",
      "provenance": [],
      "mount_file_id": "18EIpsSHUu7IROATuGSi2VPv_54BcblBF",
      "authorship_tag": "ABX9TyN4YtYggmKJ9koOJogTjC3C",
      "include_colab_link": true
    },
    "kernelspec": {
      "name": "python3",
      "display_name": "Python 3"
    },
    "language_info": {
      "name": "python"
    }
  },
  "cells": [
    {
      "cell_type": "markdown",
      "metadata": {
        "id": "view-in-github",
        "colab_type": "text"
      },
      "source": [
        "<a href=\"https://colab.research.google.com/github/dantrainor9/Animal_Image_Classification/blob/main/Animal_Image_Classification_part_1.ipynb\" target=\"_parent\"><img src=\"https://colab.research.google.com/assets/colab-badge.svg\" alt=\"Open In Colab\"/></a>"
      ]
    },
    {
      "cell_type": "code",
      "execution_count": 1,
      "metadata": {
        "colab": {
          "base_uri": "https://localhost:8080/"
        },
        "id": "LN5DTW0bBw07",
        "outputId": "1145fc61-5772-4982-ca2b-4d522738d31b"
      },
      "outputs": [
        {
          "output_type": "stream",
          "name": "stdout",
          "text": [
            "Collecting timm\n",
            "  Downloading timm-0.5.4-py3-none-any.whl (431 kB)\n",
            "\u001b[?25l\r\u001b[K     |▊                               | 10 kB 18.7 MB/s eta 0:00:01\r\u001b[K     |█▌                              | 20 kB 17.9 MB/s eta 0:00:01\r\u001b[K     |██▎                             | 30 kB 10.7 MB/s eta 0:00:01\r\u001b[K     |███                             | 40 kB 8.9 MB/s eta 0:00:01\r\u001b[K     |███▉                            | 51 kB 5.7 MB/s eta 0:00:01\r\u001b[K     |████▋                           | 61 kB 5.7 MB/s eta 0:00:01\r\u001b[K     |█████▎                          | 71 kB 5.9 MB/s eta 0:00:01\r\u001b[K     |██████                          | 81 kB 6.7 MB/s eta 0:00:01\r\u001b[K     |██████▉                         | 92 kB 5.2 MB/s eta 0:00:01\r\u001b[K     |███████▋                        | 102 kB 5.6 MB/s eta 0:00:01\r\u001b[K     |████████▍                       | 112 kB 5.6 MB/s eta 0:00:01\r\u001b[K     |█████████▏                      | 122 kB 5.6 MB/s eta 0:00:01\r\u001b[K     |█████████▉                      | 133 kB 5.6 MB/s eta 0:00:01\r\u001b[K     |██████████▋                     | 143 kB 5.6 MB/s eta 0:00:01\r\u001b[K     |███████████▍                    | 153 kB 5.6 MB/s eta 0:00:01\r\u001b[K     |████████████▏                   | 163 kB 5.6 MB/s eta 0:00:01\r\u001b[K     |█████████████                   | 174 kB 5.6 MB/s eta 0:00:01\r\u001b[K     |█████████████▊                  | 184 kB 5.6 MB/s eta 0:00:01\r\u001b[K     |██████████████▍                 | 194 kB 5.6 MB/s eta 0:00:01\r\u001b[K     |███████████████▏                | 204 kB 5.6 MB/s eta 0:00:01\r\u001b[K     |████████████████                | 215 kB 5.6 MB/s eta 0:00:01\r\u001b[K     |████████████████▊               | 225 kB 5.6 MB/s eta 0:00:01\r\u001b[K     |█████████████████▌              | 235 kB 5.6 MB/s eta 0:00:01\r\u001b[K     |██████████████████▎             | 245 kB 5.6 MB/s eta 0:00:01\r\u001b[K     |███████████████████             | 256 kB 5.6 MB/s eta 0:00:01\r\u001b[K     |███████████████████▊            | 266 kB 5.6 MB/s eta 0:00:01\r\u001b[K     |████████████████████▌           | 276 kB 5.6 MB/s eta 0:00:01\r\u001b[K     |█████████████████████▎          | 286 kB 5.6 MB/s eta 0:00:01\r\u001b[K     |██████████████████████          | 296 kB 5.6 MB/s eta 0:00:01\r\u001b[K     |██████████████████████▉         | 307 kB 5.6 MB/s eta 0:00:01\r\u001b[K     |███████████████████████▌        | 317 kB 5.6 MB/s eta 0:00:01\r\u001b[K     |████████████████████████▎       | 327 kB 5.6 MB/s eta 0:00:01\r\u001b[K     |█████████████████████████       | 337 kB 5.6 MB/s eta 0:00:01\r\u001b[K     |█████████████████████████▉      | 348 kB 5.6 MB/s eta 0:00:01\r\u001b[K     |██████████████████████████▋     | 358 kB 5.6 MB/s eta 0:00:01\r\u001b[K     |███████████████████████████▍    | 368 kB 5.6 MB/s eta 0:00:01\r\u001b[K     |████████████████████████████    | 378 kB 5.6 MB/s eta 0:00:01\r\u001b[K     |████████████████████████████▉   | 389 kB 5.6 MB/s eta 0:00:01\r\u001b[K     |█████████████████████████████▋  | 399 kB 5.6 MB/s eta 0:00:01\r\u001b[K     |██████████████████████████████▍ | 409 kB 5.6 MB/s eta 0:00:01\r\u001b[K     |███████████████████████████████▏| 419 kB 5.6 MB/s eta 0:00:01\r\u001b[K     |████████████████████████████████| 430 kB 5.6 MB/s eta 0:00:01\r\u001b[K     |████████████████████████████████| 431 kB 5.6 MB/s \n",
            "\u001b[?25hRequirement already satisfied: torch>=1.4 in /usr/local/lib/python3.7/dist-packages (from timm) (1.10.0+cu111)\n",
            "Requirement already satisfied: torchvision in /usr/local/lib/python3.7/dist-packages (from timm) (0.11.1+cu111)\n",
            "Requirement already satisfied: typing-extensions in /usr/local/lib/python3.7/dist-packages (from torch>=1.4->timm) (3.10.0.2)\n",
            "Requirement already satisfied: numpy in /usr/local/lib/python3.7/dist-packages (from torchvision->timm) (1.19.5)\n",
            "Requirement already satisfied: pillow!=8.3.0,>=5.3.0 in /usr/local/lib/python3.7/dist-packages (from torchvision->timm) (7.1.2)\n",
            "Installing collected packages: timm\n",
            "Successfully installed timm-0.5.4\n"
          ]
        }
      ],
      "source": [
        "!pip install timm"
      ]
    },
    {
      "cell_type": "code",
      "source": [
        "import numpy as np\n",
        "import pandas as pd\n",
        "import matplotlib.pyplot as plt\n",
        "import seaborn as sns\n",
        "\n",
        "from sklearn.model_selection import train_test_split\n",
        "from sklearn.preprocessing import StandardScaler\n",
        "import torch\n",
        "from torch import nn, optim\n",
        "import timm\n",
        "import torchvision\n",
        "from torchvision import datasets, transforms\n",
        "from torch.nn import functional as F\n",
        "from torch.utils.data import DataLoader, sampler, random_split"
      ],
      "metadata": {
        "id": "M5JNNNi1Cl3F"
      },
      "execution_count": 2,
      "outputs": []
    },
    {
      "cell_type": "code",
      "source": [
        "path = '/content/drive/MyDrive/Personal Projects/Animal Image Classification/dataset'"
      ],
      "metadata": {
        "id": "68E4tPZZCrqF"
      },
      "execution_count": 3,
      "outputs": []
    },
    {
      "cell_type": "code",
      "source": [
        "from torchvision.transforms.transforms import RandomRotation"
      ],
      "metadata": {
        "id": "bDtYXiWTC6am"
      },
      "execution_count": null,
      "outputs": []
    },
    {
      "cell_type": "code",
      "source": [
        "def get_data_loaders(filename, batch_size, train = False):\n",
        "  if train:\n",
        "    my_transforms = transforms.Compose([\n",
        "          transforms.RandomHorizontalFlip(),\n",
        "          transforms.RandomVerticalFlip(),\n",
        "          transforms.ColorJitter(brightness=0.3),\n",
        "          transforms.RandomRotation(30),\n",
        "          transforms.Resize(256),\n",
        "          transforms.CenterCrop(224),\n",
        "          transforms.ToTensor()\n",
        "          transforms.Normalize((0.5,0.5,0.5),(0.5,0.5,0.5)),\n",
        "    ])\n",
        "    all_data=datasets.ImageFolder(filename,transform=my_transforms)\n",
        "    train_len = int(len(all_data)*0.7)\n",
        "    val_len = int((len(all_data)-train_len)/2)\n",
        "    test_len = int(len(all_data)-train_len-val_len)\n",
        "    train_data, val_data, test_data = random_split(all_data, [train_len, val_len, test_len])\n",
        "    train_loader = \n",
        "\n",
        "  else:\n",
        "    my_transforms=transforms.Compose([\n",
        "          transforms.Resize(256),\n",
        "          transforms.CenterCrop(224),\n",
        "          transforms.ToTensor(),\n",
        "          transforms.Normalize((0.5,0.5,0.5),(0.5,0.5,0.5)),\n",
        "    ])\n",
        "    all_data=datasets.ImageFolder(filename, transform=my_transforms)\n",
        "    train_len = int(len(all_data)*0.7)\n",
        "    val_len = int((len(all_data)-train_len)/2)\n",
        "    test_len = int(len(all_data)-train_len-val_len)\n",
        "    train_data, val_data, test_data = random_split(all_data, [train_len, val_len, test_len])\n",
        "    val_loader ="
      ],
      "metadata": {
        "id": "lZnuRtao3emk"
      },
      "execution_count": null,
      "outputs": []
    },
    {
      "cell_type": "code",
      "source": [
        ""
      ],
      "metadata": {
        "id": "WnrckhPa3h8K"
      },
      "execution_count": null,
      "outputs": []
    }
  ]
}