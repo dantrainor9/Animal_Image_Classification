{
  "nbformat": 4,
  "nbformat_minor": 0,
  "metadata": {
    "colab": {
      "name": "Animal_Image_Classification_part_1.ipynb",
      "provenance": [],
      "mount_file_id": "18EIpsSHUu7IROATuGSi2VPv_54BcblBF",
      "authorship_tag": "ABX9TyPoho08UtMXYFypZn5ZXnmH",
      "include_colab_link": true
    },
    "kernelspec": {
      "name": "python3",
      "display_name": "Python 3"
    },
    "language_info": {
      "name": "python"
    }
  },
  "cells": [
    {
      "cell_type": "markdown",
      "metadata": {
        "id": "view-in-github",
        "colab_type": "text"
      },
      "source": [
        "<a href=\"https://colab.research.google.com/github/dantrainor9/Animal_Image_Classification/blob/main/Animal_Image_Classification_part_1.ipynb\" target=\"_parent\"><img src=\"https://colab.research.google.com/assets/colab-badge.svg\" alt=\"Open In Colab\"/></a>"
      ]
    },
    {
      "cell_type": "code",
      "source": [
        "import numpy as np\n",
        "import pandas as pd\n",
        "import matplotlib.pyplot as plt\n",
        "import seaborn as sns\n",
        "import tensorflow as tf\n",
        "\n",
        "from sklearn.compose import make_column_selector, make_column_transformer\n",
        "from sklearn.preprocessing import StandardScaler\n",
        "from sklearn.model_selection import train_test_split\n",
        "from sklearn.metrics import classification_report, confusion_matrix\n",
        "\n",
        "from matplotlib.pyplot import imshow\n",
        "\n",
        "from tensorflow import keras\n",
        "from tensorflow.keras.models import Sequential\n",
        "from tensorflow.keras.layers import Dense, Conv2D, MaxPool2D, Flatten, Dropout\n",
        "from tensorflow.keras.utils import to_categorical\n",
        "from tensorflow.keras.optimizers import Adam, Adamax"
      ],
      "metadata": {
        "id": "5BHBwCkbvMCG"
      },
      "execution_count": 1,
      "outputs": []
    },
    {
      "cell_type": "code",
      "source": [
        "path = '/content/drive/MyDrive/Personal Projects/Animal Image Classification/dataset'"
      ],
      "metadata": {
        "id": "K8KaIWz1wite"
      },
      "execution_count": 2,
      "outputs": []
    },
    {
      "cell_type": "code",
      "source": [
        "#defining a function for visualizing image samples from a generator\n",
        "def show_image_samples(gen):\n",
        "    t_dict=gen.class_indices\n",
        "    classes=list(t_dict.keys())\n",
        "    images,labels=next(gen) # get a sample batch from the generator \n",
        "    plt.figure(figsize=(20, 20))\n",
        "    length=len(labels)\n",
        "    if length<25:   #show maximum of 25 images\n",
        "        r=length\n",
        "    else:\n",
        "        r=25\n",
        "    for i in range(r):\n",
        "        plt.subplot(5, 5, i + 1)\n",
        "        image=images[i]/255        \n",
        "        plt.imshow(image)\n",
        "        index=np.argmax(labels[i])\n",
        "        class_name=classes[index]\n",
        "        plt.title(class_name, color='green', fontsize=12)\n",
        "        plt.axis('off')\n",
        "    plt.show()"
      ],
      "metadata": {
        "id": "3Byt-iIIBtTv"
      },
      "execution_count": 3,
      "outputs": []
    },
    {
      "cell_type": "code",
      "source": [
        "#defining a function for visualizing images from a directory\n",
        "def show_images(tdir):\n",
        "    classlist=os.listdir(tdir)\n",
        "    length=len(classlist)\n",
        "    columns=5\n",
        "    rows=int(np.ceil(length/columns))    \n",
        "    plt.figure(figsize=(20, rows * 4))\n",
        "    for i, klass in enumerate(classlist):    \n",
        "        classpath=os.path.join(tdir, klass)\n",
        "        imgpath=os.path.join(classpath, '1.jpg')\n",
        "        img=plt.imread(imgpath)\n",
        "        plt.subplot(rows, columns, i+1)\n",
        "        plt.axis('off')\n",
        "        plt.title(klass, color='green', fontsize=12)\n",
        "        plt.imshow(img)"
      ],
      "metadata": {
        "id": "bDgap04gCi2b"
      },
      "execution_count": 4,
      "outputs": []
    },
    {
      "cell_type": "code",
      "source": [
        "#defining a function for preprocessing of images into dataframes\n",
        "def preprocess (sdir, trsplit, vsplit):\n",
        "    filepaths=[]\n",
        "    labels=[]    \n",
        "    classlist=os.listdir(sdir)\n",
        "    for klass in classlist:\n",
        "        classpath=os.path.join(sdir,klass)\n",
        "        if os.path.isdir(classpath):\n",
        "            flist=os.listdir(classpath)\n",
        "            for f in flist:\n",
        "                fpath=os.path.join(classpath,f)\n",
        "                filepaths.append(fpath)\n",
        "                labels.append(klass)\n",
        "    Fseries=pd.Series(filepaths, name='filepaths')\n",
        "    Lseries=pd.Series(labels, name='labels')\n",
        "    df=pd.concat([Fseries, Lseries], axis=1)            \n",
        "    dsplit=vsplit/(1-trsplit)\n",
        "    strat=df['labels']\n",
        "    train_df, dummy_df=train_test_split(df, train_size=trsplit, shuffle=True, random_state=123, stratify=strat)\n",
        "    strat=dummy_df['labels']\n",
        "    valid_df, test_df= train_test_split(dummy_df, train_size=dsplit, shuffle=True, random_state=123, stratify=strat)\n",
        "    print('train_df length: ', len(train_df), '  test_df length: ',len(test_df), '  valid_df length: ', len(valid_df))\n",
        "     # check that each dataframe has the same number of classes to prevent model.fit errors\n",
        "    trcount=len(train_df['labels'].unique())\n",
        "    tecount=len(test_df['labels'].unique())\n",
        "    vcount=len(valid_df['labels'].unique())\n",
        "    if trcount < tecount :         \n",
        "        msg='** WARNING ** number of classes in training set is less than the number of classes in test set'\n",
        "        print_in_color(msg, (255,0,0), (55,65,80))\n",
        "        msg='This will throw an error in either model.evaluate or model.predict'\n",
        "        print_in_color(msg, (255,0,0), (55,65,80))\n",
        "    if trcount != vcount:\n",
        "        msg='** WARNING ** number of classes in training set not equal to number of classes in validation set' \n",
        "        print_in_color(msg, (255,0,0), (55,65,80))\n",
        "        msg=' this will throw an error in model.fit'\n",
        "        print_in_color(msg, (255,0,0), (55,65,80))\n",
        "        print ('train df class count: ', trcount, 'test df class count: ', tecount, ' valid df class count: ', vcount) \n",
        "        ans=input('Enter C to continue execution or H to halt execution')\n",
        "        if ans =='H' or ans == 'h':\n",
        "            print_in_color('Halting Execution', (255,0,0), (55,65,80))\n",
        "            import sys\n",
        "            sys.exit('program halted by user')            \n",
        "    print(list(train_df['labels'].value_counts()))\n",
        "    return train_df, test_df, valid_df"
      ],
      "metadata": {
        "id": "Byr_ZcIiEDLR"
      },
      "execution_count": 5,
      "outputs": []
    }
  ]
}